{
 "cells": [
  {
   "cell_type": "markdown",
   "metadata": {},
   "source": [
    "## Importing the dataset\n",
    "- Use the kaggle API straight to avoid manual downloading of .csv"
   ]
  },
  {
   "cell_type": "code",
   "execution_count": 12,
   "metadata": {
    "ExecuteTime": {
     "end_time": "2019-07-17T13:18:14.776294Z",
     "start_time": "2019-07-17T13:18:14.281210Z"
    }
   },
   "outputs": [],
   "source": [
    "import pandas as pd"
   ]
  },
  {
   "cell_type": "code",
   "execution_count": 11,
   "metadata": {
    "ExecuteTime": {
     "end_time": "2019-07-17T13:16:46.625293Z",
     "start_time": "2019-07-17T13:16:40.485260Z"
    },
    "scrolled": true
   },
   "outputs": [
    {
     "data": {
      "text/plain": [
       "['',\n",
       " '  0%|          | 0.00/31.2k [00:00<?, ?B/s]',\n",
       " '100%|██████████| 31.2k/31.2k [00:00<00:00, 811kB/s]',\n",
       " '',\n",
       " '  0%|          | 0.00/441k [00:00<?, ?B/s]',\n",
       " '100%|██████████| 441k/441k [00:00<00:00, 2.25MB/s]',\n",
       " '',\n",
       " '  0%|          | 0.00/450k [00:00<?, ?B/s]',\n",
       " '100%|██████████| 450k/450k [00:00<00:00, 2.25MB/s]',\n",
       " '',\n",
       " '  0%|          | 0.00/13.1k [00:00<?, ?B/s]',\n",
       " '100%|██████████| 13.1k/13.1k [00:00<00:00, 14.5MB/s]',\n",
       " \"Warning: Your Kaggle API key is readable by otherusers on this system! To fix this, you can run'chmod 600 /Users/jtsw/.kaggle/kaggle.json'\",\n",
       " 'Downloading sample_submission.csv to ../kaggle-california-housing-data',\n",
       " '',\n",
       " 'Downloading test.csv to ../kaggle-california-housing-data',\n",
       " '',\n",
       " 'Downloading train.csv to ../kaggle-california-housing-data',\n",
       " '',\n",
       " 'Downloading data_description.txt to ../kaggle-california-housing-data',\n",
       " '']"
      ]
     },
     "execution_count": 11,
     "metadata": {},
     "output_type": "execute_result"
    }
   ],
   "source": [
    "%%system\n",
    "kaggle competitions download -c house-prices-advanced-regression-techniques -p \"../kaggle-california-housing-data\""
   ]
  },
  {
   "cell_type": "code",
   "execution_count": 14,
   "metadata": {
    "ExecuteTime": {
     "end_time": "2019-07-17T13:20:16.999021Z",
     "start_time": "2019-07-17T13:20:16.914978Z"
    }
   },
   "outputs": [],
   "source": [
    "df_train = pd.read_csv(\"../kaggle-california-housing-data/train.csv\")\n",
    "df_test = pd.read_csv(\"../kaggle-california-housing-data/test.csv\")"
   ]
  },
  {
   "cell_type": "code",
   "execution_count": null,
   "metadata": {},
   "outputs": [],
   "source": []
  }
 ],
 "metadata": {
  "kernelspec": {
   "display_name": "Python 3",
   "language": "python",
   "name": "python3"
  },
  "language_info": {
   "codemirror_mode": {
    "name": "ipython",
    "version": 3
   },
   "file_extension": ".py",
   "mimetype": "text/x-python",
   "name": "python",
   "nbconvert_exporter": "python",
   "pygments_lexer": "ipython3",
   "version": "3.6.8"
  },
  "varInspector": {
   "cols": {
    "lenName": 16,
    "lenType": 16,
    "lenVar": 40
   },
   "kernels_config": {
    "python": {
     "delete_cmd_postfix": "",
     "delete_cmd_prefix": "del ",
     "library": "var_list.py",
     "varRefreshCmd": "print(var_dic_list())"
    },
    "r": {
     "delete_cmd_postfix": ") ",
     "delete_cmd_prefix": "rm(",
     "library": "var_list.r",
     "varRefreshCmd": "cat(var_dic_list()) "
    }
   },
   "types_to_exclude": [
    "module",
    "function",
    "builtin_function_or_method",
    "instance",
    "_Feature"
   ],
   "window_display": false
  }
 },
 "nbformat": 4,
 "nbformat_minor": 2
}
