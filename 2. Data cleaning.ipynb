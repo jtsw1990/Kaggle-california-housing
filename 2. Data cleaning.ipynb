{
 "cells": [
  {
   "cell_type": "markdown",
   "metadata": {},
   "source": [
    "## Data cleaning\n",
    "- Refer to data dictionary on the Github repository"
   ]
  },
  {
   "cell_type": "code",
   "execution_count": 1,
   "metadata": {
    "ExecuteTime": {
     "end_time": "2019-07-18T13:47:06.957526Z",
     "start_time": "2019-07-18T13:47:06.284806Z"
    }
   },
   "outputs": [],
   "source": [
    "import pandas as pd\n",
    "import numpy as np\n",
    "import pickle\n",
    "\n",
    "from sklearn.impute import SimpleImputer"
   ]
  },
  {
   "cell_type": "code",
   "execution_count": 2,
   "metadata": {
    "ExecuteTime": {
     "end_time": "2019-07-18T13:47:06.999183Z",
     "start_time": "2019-07-18T13:47:06.960857Z"
    }
   },
   "outputs": [],
   "source": [
    "df_train = pd.read_csv(\"../kaggle-california-housing-data/train.csv\")"
   ]
  },
  {
   "cell_type": "markdown",
   "metadata": {},
   "source": [
    "### Inspect columns and values\n",
    "- Let's first take a look at the null values\n",
    "- Make sure that a null value makes sense in these columns\n",
    "- Then decide on a function to replace\n",
    "- NaN means this in the columns:\n",
    "    - LotFrontage: No street connected to the property\n",
    "    - Alley: NaN means no Alley\n",
    "    - MasVnrType: Not sure, already has a None category\n",
    "    - MasVnrArea: Not sure, already has a 0 area\n",
    "    - BsmtQual: No basement\n",
    "    - BsmtFinType1: No basement\n",
    "    - BsmtFinType2: No basement\n",
    "    - Electrical: Not sure, no electrical system?\n",
    "    - FireplaceQu: No fireplace\n",
    "    - GarageType: No garage\n",
    "    - GarageYrBlt: No garage (check)\n",
    "    - GarageFinish: No garage (check)\n",
    "    - GarageQual: No garage (check)\n",
    "    - GarageCond: No garage (check)\n",
    "    - PoolQC: No pool\n",
    "    - Fence: No fence\n",
    "    - MiscFeature: No miscellaneous features"
   ]
  },
  {
   "cell_type": "code",
   "execution_count": 3,
   "metadata": {
    "ExecuteTime": {
     "end_time": "2019-07-18T13:47:07.018445Z",
     "start_time": "2019-07-18T13:47:07.001025Z"
    }
   },
   "outputs": [
    {
     "data": {
      "text/plain": [
       "Index(['LotFrontage', 'Alley', 'MasVnrType', 'MasVnrArea', 'BsmtQual',\n",
       "       'BsmtCond', 'BsmtExposure', 'BsmtFinType1', 'BsmtFinType2',\n",
       "       'Electrical', 'FireplaceQu', 'GarageType', 'GarageYrBlt',\n",
       "       'GarageFinish', 'GarageQual', 'GarageCond', 'PoolQC', 'Fence',\n",
       "       'MiscFeature'],\n",
       "      dtype='object')"
      ]
     },
     "execution_count": 3,
     "metadata": {},
     "output_type": "execute_result"
    }
   ],
   "source": [
    "df_train.columns[\n",
    "    list(\n",
    "        df_train.isnull().any()\n",
    "    )\n",
    "]"
   ]
  },
  {
   "cell_type": "markdown",
   "metadata": {},
   "source": [
    "### Individual checks\n",
    "- Make sure that the NaNs are consistent"
   ]
  },
  {
   "cell_type": "code",
   "execution_count": 4,
   "metadata": {
    "ExecuteTime": {
     "end_time": "2019-07-18T13:47:07.033728Z",
     "start_time": "2019-07-18T13:47:07.020561Z"
    }
   },
   "outputs": [
    {
     "data": {
      "text/html": [
       "<div>\n",
       "<style scoped>\n",
       "    .dataframe tbody tr th:only-of-type {\n",
       "        vertical-align: middle;\n",
       "    }\n",
       "\n",
       "    .dataframe tbody tr th {\n",
       "        vertical-align: top;\n",
       "    }\n",
       "\n",
       "    .dataframe thead th {\n",
       "        text-align: right;\n",
       "    }\n",
       "</style>\n",
       "<table border=\"1\" class=\"dataframe\">\n",
       "  <thead>\n",
       "    <tr style=\"text-align: right;\">\n",
       "      <th></th>\n",
       "      <th>BsmtFinType1</th>\n",
       "      <th>BsmtFinType2</th>\n",
       "    </tr>\n",
       "  </thead>\n",
       "  <tbody>\n",
       "    <tr>\n",
       "      <th>17</th>\n",
       "      <td>NaN</td>\n",
       "      <td>NaN</td>\n",
       "    </tr>\n",
       "  </tbody>\n",
       "</table>\n",
       "</div>"
      ],
      "text/plain": [
       "   BsmtFinType1 BsmtFinType2\n",
       "17          NaN          NaN"
      ]
     },
     "execution_count": 4,
     "metadata": {},
     "output_type": "execute_result"
    }
   ],
   "source": [
    "df_train.loc[\n",
    "    df_train[\"BsmtQual\"].isnull(), \n",
    "    [\"BsmtFinType1\", \"BsmtFinType2\"]\n",
    "].drop_duplicates()"
   ]
  },
  {
   "cell_type": "code",
   "execution_count": 5,
   "metadata": {
    "ExecuteTime": {
     "end_time": "2019-07-18T13:47:07.053964Z",
     "start_time": "2019-07-18T13:47:07.036099Z"
    }
   },
   "outputs": [
    {
     "data": {
      "text/html": [
       "<div>\n",
       "<style scoped>\n",
       "    .dataframe tbody tr th:only-of-type {\n",
       "        vertical-align: middle;\n",
       "    }\n",
       "\n",
       "    .dataframe tbody tr th {\n",
       "        vertical-align: top;\n",
       "    }\n",
       "\n",
       "    .dataframe thead th {\n",
       "        text-align: right;\n",
       "    }\n",
       "</style>\n",
       "<table border=\"1\" class=\"dataframe\">\n",
       "  <thead>\n",
       "    <tr style=\"text-align: right;\">\n",
       "      <th></th>\n",
       "      <th>GarageYrBlt</th>\n",
       "      <th>GarageFinish</th>\n",
       "      <th>GarageQual</th>\n",
       "      <th>GarageCond</th>\n",
       "    </tr>\n",
       "  </thead>\n",
       "  <tbody>\n",
       "    <tr>\n",
       "      <th>39</th>\n",
       "      <td>NaN</td>\n",
       "      <td>NaN</td>\n",
       "      <td>NaN</td>\n",
       "      <td>NaN</td>\n",
       "    </tr>\n",
       "  </tbody>\n",
       "</table>\n",
       "</div>"
      ],
      "text/plain": [
       "    GarageYrBlt GarageFinish GarageQual GarageCond\n",
       "39          NaN          NaN        NaN        NaN"
      ]
     },
     "execution_count": 5,
     "metadata": {},
     "output_type": "execute_result"
    }
   ],
   "source": [
    "df_train.loc[\n",
    "    df_train[\"GarageType\"].isnull(), \n",
    "    [\n",
    "        \"GarageYrBlt\", \n",
    "        \"GarageFinish\", \n",
    "        \"GarageQual\", \n",
    "        \"GarageCond\"\n",
    "    ]\n",
    "].drop_duplicates()"
   ]
  },
  {
   "cell_type": "markdown",
   "metadata": {},
   "source": [
    "## Impute values\n",
    "- LotFrontage will be changed to 0\n",
    "- MasVnrType will be changed to \"None\"\n",
    "- MasVnrArea will be changed to 0\n",
    "- Everything elese will be changed to \"None\""
   ]
  },
  {
   "cell_type": "code",
   "execution_count": 6,
   "metadata": {
    "ExecuteTime": {
     "end_time": "2019-07-18T13:47:07.060001Z",
     "start_time": "2019-07-18T13:47:07.056325Z"
    }
   },
   "outputs": [],
   "source": [
    "def replace_nans(df, col, method):\n",
    "    imputer = SimpleImputer(\n",
    "        missing_values=np.nan, \n",
    "        strategy=\"constant\", \n",
    "        fill_value=method\n",
    "    )\n",
    "    return imputer.fit_transform(np.array(df[col]).reshape(1, -1))[0]"
   ]
  },
  {
   "cell_type": "code",
   "execution_count": 7,
   "metadata": {
    "ExecuteTime": {
     "end_time": "2019-07-18T13:47:07.067461Z",
     "start_time": "2019-07-18T13:47:07.062202Z"
    }
   },
   "outputs": [],
   "source": [
    "df_train[\"LotFrontage\"] = replace_nans(df_train, \"LotFrontage\", 0)\n",
    "df_train[\"MasVnrArea\"] = replace_nans(df_train, \"MasVnrArea\", 0)"
   ]
  },
  {
   "cell_type": "code",
   "execution_count": 8,
   "metadata": {
    "ExecuteTime": {
     "end_time": "2019-07-18T13:47:07.095165Z",
     "start_time": "2019-07-18T13:47:07.071249Z"
    },
    "scrolled": true
   },
   "outputs": [],
   "source": [
    "df_train = df_train.loc[\n",
    "    df_train[\"Electrical\"].notnull(), \n",
    "    :\n",
    "].fillna(\"None\")"
   ]
  },
  {
   "cell_type": "markdown",
   "metadata": {},
   "source": [
    "## Export cleaned data"
   ]
  },
  {
   "cell_type": "code",
   "execution_count": 9,
   "metadata": {
    "ExecuteTime": {
     "end_time": "2019-07-18T13:47:07.106952Z",
     "start_time": "2019-07-18T13:47:07.098581Z"
    }
   },
   "outputs": [],
   "source": [
    "with open('../kaggle-california-housing-data/df_imputed.pickle', 'wb') as f:\n",
    "    pickle.dump(df_train, f)"
   ]
  }
 ],
 "metadata": {
  "kernelspec": {
   "display_name": "Python 3",
   "language": "python",
   "name": "python3"
  },
  "language_info": {
   "codemirror_mode": {
    "name": "ipython",
    "version": 3
   },
   "file_extension": ".py",
   "mimetype": "text/x-python",
   "name": "python",
   "nbconvert_exporter": "python",
   "pygments_lexer": "ipython3",
   "version": "3.6.8"
  },
  "varInspector": {
   "cols": {
    "lenName": 16,
    "lenType": 16,
    "lenVar": 40
   },
   "kernels_config": {
    "python": {
     "delete_cmd_postfix": "",
     "delete_cmd_prefix": "del ",
     "library": "var_list.py",
     "varRefreshCmd": "print(var_dic_list())"
    },
    "r": {
     "delete_cmd_postfix": ") ",
     "delete_cmd_prefix": "rm(",
     "library": "var_list.r",
     "varRefreshCmd": "cat(var_dic_list()) "
    }
   },
   "types_to_exclude": [
    "module",
    "function",
    "builtin_function_or_method",
    "instance",
    "_Feature"
   ],
   "window_display": false
  }
 },
 "nbformat": 4,
 "nbformat_minor": 2
}
