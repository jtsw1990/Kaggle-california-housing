{
 "cells": [
  {
   "cell_type": "markdown",
   "metadata": {},
   "source": [
    "# Get meaningful features from cleaned data\n",
    "- First let's import the cleaned dataset"
   ]
  },
  {
   "cell_type": "code",
   "execution_count": 4,
   "metadata": {
    "ExecuteTime": {
     "end_time": "2019-07-18T13:47:16.040810Z",
     "start_time": "2019-07-18T13:47:16.038136Z"
    }
   },
   "outputs": [],
   "source": [
    "import pandas as pd"
   ]
  },
  {
   "cell_type": "code",
   "execution_count": 5,
   "metadata": {
    "ExecuteTime": {
     "end_time": "2019-07-18T13:47:16.372800Z",
     "start_time": "2019-07-18T13:47:16.366188Z"
    }
   },
   "outputs": [],
   "source": [
    "df = pd.read_pickle(\"../kaggle-california-housing-data/df_imputed.pickle\")"
   ]
  },
  {
   "cell_type": "markdown",
   "metadata": {
    "ExecuteTime": {
     "end_time": "2019-07-18T13:47:32.224988Z",
     "start_time": "2019-07-18T13:47:32.208409Z"
    }
   },
   "source": [
    "## Get the categorical columns to encode\n",
    "- These are the columns with categorical data\n",
    "    - MSSubClass\n",
    "    - MSZoning\n",
    "    - Street\n",
    "    - Alley\n",
    "    - LotShape\n",
    "    - LandContour\n",
    "    - Utilities\n",
    "    - LotConfig\n",
    "    - LandSlope\n",
    "    - Neighborhood\n",
    "    - Condition1\n",
    "    - Condition2\n",
    "    - BldgType\n",
    "    - HouseStyle\n",
    "    - OverallQual (Check)\n",
    "    - OverallCond (Check)\n",
    "    - YearBuilt (Decide)\n",
    "    - YearModAdd (Decide)\n",
    "    - RoofStyle\n",
    "    - RoofMatl\n",
    "    - Exterior1st\n",
    "    - Exterior2nd\n",
    "    - MasVnrType\n",
    "    - ExterQual\n",
    "    - ExterCond\n",
    "    - Foundation\n",
    "    - BsmtQual\n",
    "    - BsmtCond\n",
    "    - BsmtExposure\n",
    "    - BsmtFinType1\n",
    "    - BsmtFinType2\n",
    "    - Heating\n",
    "    - HeatingQC\n",
    "    - CentralAir\n",
    "    - Electrical\n",
    "    - KitchenQual\n",
    "    - Functional\n",
    "    - FireplaceQu\n",
    "    - GarageType\n",
    "    - GarageYrBlt (Check)\n",
    "    - GarageFinish\n",
    "    - GarageQual\n",
    "    - GarageCond\n",
    "    - PavedDrive\n",
    "    - PoolQC\n",
    "    - Fence\n",
    "    - MiscFeature\n",
    "    - MoSold (Check)\n",
    "    - YrSold (Check)\n",
    "    - SaleType\n",
    "    - SaleCondition"
   ]
  },
  {
   "cell_type": "code",
   "execution_count": null,
   "metadata": {},
   "outputs": [],
   "source": [
    "# What to do with year? Makes sense to keep as numerical? \n",
    "# Or combine features into YrMonth\n",
    "# Does month make sense as numerical?"
   ]
  }
 ],
 "metadata": {
  "kernelspec": {
   "display_name": "Python 3",
   "language": "python",
   "name": "python3"
  },
  "language_info": {
   "codemirror_mode": {
    "name": "ipython",
    "version": 3
   },
   "file_extension": ".py",
   "mimetype": "text/x-python",
   "name": "python",
   "nbconvert_exporter": "python",
   "pygments_lexer": "ipython3",
   "version": "3.6.8"
  },
  "varInspector": {
   "cols": {
    "lenName": 16,
    "lenType": 16,
    "lenVar": 40
   },
   "kernels_config": {
    "python": {
     "delete_cmd_postfix": "",
     "delete_cmd_prefix": "del ",
     "library": "var_list.py",
     "varRefreshCmd": "print(var_dic_list())"
    },
    "r": {
     "delete_cmd_postfix": ") ",
     "delete_cmd_prefix": "rm(",
     "library": "var_list.r",
     "varRefreshCmd": "cat(var_dic_list()) "
    }
   },
   "types_to_exclude": [
    "module",
    "function",
    "builtin_function_or_method",
    "instance",
    "_Feature"
   ],
   "window_display": false
  }
 },
 "nbformat": 4,
 "nbformat_minor": 2
}
